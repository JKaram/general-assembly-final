{
 "cells": [
  {
   "cell_type": "code",
   "execution_count": 1,
   "metadata": {},
   "outputs": [],
   "source": [
    "from datetime import datetime\n",
    "import pandas as pd\n",
    "\n",
    "df = pd.read_csv(\"../profile_csvs/arianagrande.csv\")"
   ]
  },
  {
   "cell_type": "code",
   "execution_count": 2,
   "metadata": {},
   "outputs": [],
   "source": [
    "def convert_followers(str):\n",
    "    if \"m\" in str:\n",
    "        new_num = int(str.replace(\"m\", ''))\n",
    "        return new_num * 1_000_000\n",
    "    elif \"k\" in str:\n",
    "        new_num = int(str.replace(\"k\", \"\"))\n",
    "        return new_num * 1000\n",
    "    else:\n",
    "        return int(str)"
   ]
  },
  {
   "cell_type": "code",
   "execution_count": 3,
   "metadata": {},
   "outputs": [],
   "source": [
    "df = df[~df['date'].isin(['Error', None])]\n",
    "df = df[~df['likes'].isin(['Video', None])]"
   ]
  },
  {
   "cell_type": "code",
   "execution_count": 4,
   "metadata": {},
   "outputs": [],
   "source": [
    "df[\"date_posted\"] = df[\"date\"].apply(lambda d : d[0:10])\n",
    "df[\"time_posted\"] = df[\"date\"].apply(lambda d : d[11:16])\n",
    "\n",
    "df[\"date_posted\"] = pd.to_datetime(df[\"date_posted\"])\n",
    "# df[\"time_posted\"] =  df[\"date\"].dt.tz_localize(None)\n",
    "df[\"time_posted\"] = df[\"time_posted\"].apply(lambda t : datetime.strptime(t, '%H:%M').time()) \n",
    "\n",
    "df[\"likes\"] = df[\"likes\"].apply(lambda l : int(l.replace(',', '')))\n",
    "df[\"followers\"] = df[\"followers\"].apply(convert_followers)"
   ]
  },
  {
   "cell_type": "code",
   "execution_count": 5,
   "metadata": {},
   "outputs": [
    {
     "name": "stdout",
     "output_type": "stream",
     "text": [
      "<class 'pandas.core.frame.DataFrame'>\n",
      "Int64Index: 3664 entries, 0 to 4659\n",
      "Data columns (total 13 columns):\n",
      " #   Column       Non-Null Count  Dtype         \n",
      "---  ------       --------------  -----         \n",
      " 0   Unnamed: 0   3664 non-null   int64         \n",
      " 1   name         3664 non-null   object        \n",
      " 2   posts        3664 non-null   object        \n",
      " 3   followers    3664 non-null   int64         \n",
      " 4   following    3664 non-null   int64         \n",
      " 5   likes        3664 non-null   int64         \n",
      " 6   comments     3664 non-null   object        \n",
      " 7   description  3664 non-null   object        \n",
      " 8   date         3664 non-null   object        \n",
      " 9   img_src      3664 non-null   object        \n",
      " 10  post_url     3664 non-null   object        \n",
      " 11  date_posted  3664 non-null   datetime64[ns]\n",
      " 12  time_posted  3664 non-null   object        \n",
      "dtypes: datetime64[ns](1), int64(4), object(8)\n",
      "memory usage: 400.8+ KB\n"
     ]
    }
   ],
   "source": [
    "df.info()"
   ]
  },
  {
   "cell_type": "code",
   "execution_count": null,
   "metadata": {},
   "outputs": [],
   "source": []
  },
  {
   "cell_type": "code",
   "execution_count": 6,
   "metadata": {},
   "outputs": [],
   "source": [
    "# df = df.sort_values([\"date_posted\", \"time_posted\", likes , ], ascending=True)"
   ]
  },
  {
   "cell_type": "code",
   "execution_count": 7,
   "metadata": {},
   "outputs": [],
   "source": [
    "new_df = df[['followers', 'likes',\"date_posted\", \"time_posted\"]].copy()"
   ]
  },
  {
   "cell_type": "code",
   "execution_count": 8,
   "metadata": {},
   "outputs": [
    {
     "data": {
      "text/html": [
       "<div>\n",
       "<style scoped>\n",
       "    .dataframe tbody tr th:only-of-type {\n",
       "        vertical-align: middle;\n",
       "    }\n",
       "\n",
       "    .dataframe tbody tr th {\n",
       "        vertical-align: top;\n",
       "    }\n",
       "\n",
       "    .dataframe thead th {\n",
       "        text-align: right;\n",
       "    }\n",
       "</style>\n",
       "<table border=\"1\" class=\"dataframe\">\n",
       "  <thead>\n",
       "    <tr style=\"text-align: right;\">\n",
       "      <th></th>\n",
       "      <th>followers</th>\n",
       "      <th>likes</th>\n",
       "      <th>date_posted</th>\n",
       "      <th>time_posted</th>\n",
       "    </tr>\n",
       "  </thead>\n",
       "  <tbody>\n",
       "    <tr>\n",
       "      <th>0</th>\n",
       "      <td>200000000</td>\n",
       "      <td>3706202</td>\n",
       "      <td>2020-08-30</td>\n",
       "      <td>22:05:00</td>\n",
       "    </tr>\n",
       "    <tr>\n",
       "      <th>1</th>\n",
       "      <td>200000000</td>\n",
       "      <td>2651045</td>\n",
       "      <td>2020-08-30</td>\n",
       "      <td>22:00:00</td>\n",
       "    </tr>\n",
       "    <tr>\n",
       "      <th>2</th>\n",
       "      <td>200000000</td>\n",
       "      <td>11498986</td>\n",
       "      <td>2020-08-24</td>\n",
       "      <td>22:29:00</td>\n",
       "    </tr>\n",
       "    <tr>\n",
       "      <th>3</th>\n",
       "      <td>200000000</td>\n",
       "      <td>6966303</td>\n",
       "      <td>2020-08-24</td>\n",
       "      <td>22:28:00</td>\n",
       "    </tr>\n",
       "    <tr>\n",
       "      <th>4</th>\n",
       "      <td>200000000</td>\n",
       "      <td>2444410</td>\n",
       "      <td>2020-08-19</td>\n",
       "      <td>16:07:00</td>\n",
       "    </tr>\n",
       "    <tr>\n",
       "      <th>...</th>\n",
       "      <td>...</td>\n",
       "      <td>...</td>\n",
       "      <td>...</td>\n",
       "      <td>...</td>\n",
       "    </tr>\n",
       "    <tr>\n",
       "      <th>4655</th>\n",
       "      <td>200000000</td>\n",
       "      <td>81173</td>\n",
       "      <td>2012-05-09</td>\n",
       "      <td>18:06:00</td>\n",
       "    </tr>\n",
       "    <tr>\n",
       "      <th>4656</th>\n",
       "      <td>200000000</td>\n",
       "      <td>145662</td>\n",
       "      <td>2012-05-09</td>\n",
       "      <td>17:21:00</td>\n",
       "    </tr>\n",
       "    <tr>\n",
       "      <th>4657</th>\n",
       "      <td>200000000</td>\n",
       "      <td>189474</td>\n",
       "      <td>2012-05-08</td>\n",
       "      <td>15:40:00</td>\n",
       "    </tr>\n",
       "    <tr>\n",
       "      <th>4658</th>\n",
       "      <td>200000000</td>\n",
       "      <td>125772</td>\n",
       "      <td>2012-05-06</td>\n",
       "      <td>07:08:00</td>\n",
       "    </tr>\n",
       "    <tr>\n",
       "      <th>4659</th>\n",
       "      <td>200000000</td>\n",
       "      <td>308276</td>\n",
       "      <td>2011-12-26</td>\n",
       "      <td>06:10:00</td>\n",
       "    </tr>\n",
       "  </tbody>\n",
       "</table>\n",
       "<p>3664 rows × 4 columns</p>\n",
       "</div>"
      ],
      "text/plain": [
       "      followers     likes date_posted time_posted\n",
       "0     200000000   3706202  2020-08-30    22:05:00\n",
       "1     200000000   2651045  2020-08-30    22:00:00\n",
       "2     200000000  11498986  2020-08-24    22:29:00\n",
       "3     200000000   6966303  2020-08-24    22:28:00\n",
       "4     200000000   2444410  2020-08-19    16:07:00\n",
       "...         ...       ...         ...         ...\n",
       "4655  200000000     81173  2012-05-09    18:06:00\n",
       "4656  200000000    145662  2012-05-09    17:21:00\n",
       "4657  200000000    189474  2012-05-08    15:40:00\n",
       "4658  200000000    125772  2012-05-06    07:08:00\n",
       "4659  200000000    308276  2011-12-26    06:10:00\n",
       "\n",
       "[3664 rows x 4 columns]"
      ]
     },
     "execution_count": 8,
     "metadata": {},
     "output_type": "execute_result"
    }
   ],
   "source": [
    "new_df"
   ]
  },
  {
   "cell_type": "code",
   "execution_count": 9,
   "metadata": {},
   "outputs": [
    {
     "name": "stdout",
     "output_type": "stream",
     "text": [
      "<class 'pandas.core.frame.DataFrame'>\n",
      "Int64Index: 3664 entries, 0 to 4659\n",
      "Data columns (total 4 columns):\n",
      " #   Column       Non-Null Count  Dtype         \n",
      "---  ------       --------------  -----         \n",
      " 0   followers    3664 non-null   int64         \n",
      " 1   likes        3664 non-null   int64         \n",
      " 2   date_posted  3664 non-null   datetime64[ns]\n",
      " 3   time_posted  3664 non-null   object        \n",
      "dtypes: datetime64[ns](1), int64(2), object(1)\n",
      "memory usage: 143.1+ KB\n"
     ]
    }
   ],
   "source": [
    "new_df.info()"
   ]
  },
  {
   "cell_type": "code",
   "execution_count": null,
   "metadata": {},
   "outputs": [],
   "source": []
  }
 ],
 "metadata": {
  "kernelspec": {
   "display_name": "Python 3",
   "language": "python",
   "name": "python3"
  },
  "language_info": {
   "codemirror_mode": {
    "name": "ipython",
    "version": 3
   },
   "file_extension": ".py",
   "mimetype": "text/x-python",
   "name": "python",
   "nbconvert_exporter": "python",
   "pygments_lexer": "ipython3",
   "version": "3.7.6"
  }
 },
 "nbformat": 4,
 "nbformat_minor": 4
}
